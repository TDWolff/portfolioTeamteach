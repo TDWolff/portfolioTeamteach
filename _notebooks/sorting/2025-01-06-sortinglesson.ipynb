{
 "cells": [
  {
   "cell_type": "raw",
   "metadata": {
    "vscode": {
     "languageId": "raw"
    }
   },
   "source": [
    "---\n",
    "title: Team Teaching - Sorting Lesson\n",
    "description: A lesson on sorting algorithms for AP Computer Science students.\n",
    "categories: [Team Teaching]\n",
    "courses: { csse: {week: 3}, csp: {week: 3}, csa: {week: 2} }\n",
    "menu: nav/teamteaching.html\n",
    "permalink: /teamteaching/sorting/lesson/\n",
    "comments: true\n",
    "---"
   ]
  },
  {
   "cell_type": "markdown",
   "metadata": {},
   "source": [
    "# **Sorting Algorithms**"
   ]
  }
 ],
 "metadata": {
  "language_info": {
   "name": "python"
  }
 },
 "nbformat": 4,
 "nbformat_minor": 2
}
