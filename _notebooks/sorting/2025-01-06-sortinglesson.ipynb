{
 "cells": [
  {
   "cell_type": "raw",
   "metadata": {
    "vscode": {
     "languageId": "raw"
    }
   },
   "source": [
    "---\n",
    "title: Sorting/Searching Algorithms - Sorting Lesson\n",
    "description: A lesson on sorting algorithms for AP Computer Science students.\n",
    "categories: [Sorting/Searching Algorithms]\n",
    "courses: { csse: {week: 3}, csp: {week: 3}, csa: {week: 2} }\n",
    "menu: nav/teamteaching.html\n",
    "permalink: /teamteaching/sorting/lesson/\n",
    "comments: true\n",
    "---"
   ]
  },
  {
   "cell_type": "markdown",
   "metadata": {},
   "source": [
    "# **Sorting Algorithms**\n",
    "\n",
    "# **1. Bubble Sort**\n",
    "Bubble sort is a simple sorting algorithm that repeatedly steps through the list, compares adjacent elements and swaps them if they are in the wrong order. The pass through the list is repeated until the list is sorted. It starts by taking the first two integers in a list of integers and compares them, if the first integer is greater than the second integer, it swaps them. It then moves to the next pair of integers and does the same. Once it finishes one loop through, it shifts the comparison to the second and third integers and so on. It continues to loop through the list until no more swaps are needed and the list is sorted."
   ]
  },
  {
   "cell_type": "code",
   "execution_count": null,
   "metadata": {
    "vscode": {
     "languageId": "java"
    }
   },
   "outputs": [
    {
     "name": "stdout",
     "output_type": "stream",
     "text": [
      "Sorting process:\n",
      "12 28 18 8 30 3 17 14 \n",
      "12 18 28 8 30 3 17 14 \n",
      "12 18 8 28 30 3 17 14 \n",
      "12 18 8 28 3 30 17 14 \n",
      "12 18 8 28 3 17 30 14 \n",
      "12 18 8 28 3 17 14 30 \n",
      "12 8 18 28 3 17 14 30 \n",
      "12 8 18 3 28 17 14 30 \n",
      "12 8 18 3 17 28 14 30 \n",
      "12 8 18 3 17 14 28 30 \n",
      "8 12 18 3 17 14 28 30 \n",
      "8 12 3 18 17 14 28 30 \n",
      "8 12 3 17 18 14 28 30 \n",
      "8 12 3 17 14 18 28 30 \n",
      "8 3 12 17 14 18 28 30 \n",
      "8 3 12 14 17 18 28 30 \n",
      "3 8 12 14 17 18 28 30 \n",
      "\n",
      "Final sorted list:\n",
      "3 8 12 14 17 18 28 30 \n"
     ]
    }
   ],
   "source": [
    "public class SortingLesson {\n",
    "    public static void main(String[] args) {\n",
    "        int[] list = {28, 12, 18, 8, 30, 3, 17, 14};\n",
    "        \n",
    "        System.out.println(\"Sorting process:\");\n",
    "        for (int i = 0; i < list.length - 1; i++) {\n",
    "            for (int j = 0; j < list.length - i - 1; j++) {\n",
    "                if (list[j] > list[j + 1]) {\n",
    "                    int temp = list[j];\n",
    "                    list[j] = list[j + 1];\n",
    "                    list[j + 1] = temp;\n",
    "                    \n",
    "                    printArray(list);\n",
    "                }\n",
    "            }\n",
    "        }\n",
    "        \n",
    "        System.out.println(\"\\nFinal sorted list:\");\n",
    "        printArray(list);\n",
    "    }\n",
    "\n",
    "    private static void printArray(int[] array) {\n",
    "        for (int num : array) {\n",
    "            System.out.print(num + \" \");\n",
    "        }\n",
    "        System.out.println();\n",
    "    }\n",
    "}\n",
    "\n",
    "\n",
    "SortingLesson.main(new String[]{});\n",
    "\n"
   ]
  },
  {
   "cell_type": "markdown",
   "metadata": {},
   "source": [
    "# **2. Selection Sort**\n",
    "Selection sort is a simple sorting algorithm that works by selecting the smallest (or largest, depending on sorting order) element from the list and swapping it with the first unsorted element. The algorithm then finds the second smallest element and swaps it with the second unsorted element, and continues in this way until the entire list is sorted. It is similar to bubble sort, but it is more efficient as it reduces the number of swaps."
   ]
  },
  {
   "cell_type": "code",
   "execution_count": 7,
   "metadata": {
    "vscode": {
     "languageId": "java"
    }
   },
   "outputs": [
    {
     "name": "stdout",
     "output_type": "stream",
     "text": [
      "Sorting process:\n",
      "3 12 18 8 30 28 17 14 \n",
      "3 8 18 12 30 28 17 14 \n",
      "3 8 12 18 30 28 17 14 \n",
      "3 8 12 14 30 28 17 18 \n",
      "3 8 12 14 17 28 30 18 \n",
      "3 8 12 14 17 18 30 28 \n",
      "3 8 12 14 17 18 28 30 \n",
      "\n",
      "Final sorted list:\n",
      "3 8 12 14 17 18 28 30 \n"
     ]
    }
   ],
   "source": [
    "public class SelectionSort {\n",
    "    public static void main(String[] args) {\n",
    "        int[] list = {28, 12, 18, 8, 30, 3, 17, 14};\n",
    "        \n",
    "        System.out.println(\"Sorting process:\");\n",
    "        for (int currentIndex = 0; currentIndex < list.length - 1; currentIndex++) {\n",
    "            int minIndex = currentIndex;\n",
    "            \n",
    "            // Find the minimum element in the unsorted part\n",
    "            for (int i = currentIndex + 1; i < list.length; i++) {\n",
    "                if (list[i] < list[minIndex]) {\n",
    "                    minIndex = i;\n",
    "                }\n",
    "            }\n",
    "            \n",
    "            // Swap the current element with the minimum element\n",
    "            int temp = list[currentIndex];\n",
    "            list[currentIndex] = list[minIndex];\n",
    "            list[minIndex] = temp;\n",
    "\n",
    "            // Print the array after each swap\n",
    "            printArray(list);\n",
    "        }\n",
    "        \n",
    "        System.out.println(\"\\nFinal sorted list:\");\n",
    "        printArray(list);\n",
    "    }\n",
    "\n",
    "    // Helper method to print the array\n",
    "    private static void printArray(int[] array) {\n",
    "        for (int num : array) {\n",
    "            System.out.print(num + \" \");\n",
    "        }\n",
    "        System.out.println();\n",
    "    }\n",
    "}\n",
    "\n",
    "SelectionSort.main(new String[]{});"
   ]
  },
  {
   "cell_type": "markdown",
   "metadata": {},
   "source": [
    "# **3. Quick Sort**\n",
    "Quick sort is a efficient, in-place sorting algorithm that allows for general-purpose sorting of large datasets. Its generally faster than commonly used sorting methods like Merge Sort or heapsort. It works by selecting a 'pivot' element from the array and partitioning the other elements into two sub-arrays, according to whether they are less than or greater than the pivot. For this reason, it is sometimes called partition-exchange sort."
   ]
  },
  {
   "cell_type": "code",
   "execution_count": 8,
   "metadata": {
    "vscode": {
     "languageId": "java"
    }
   },
   "outputs": [
    {
     "name": "stdout",
     "output_type": "stream",
     "text": [
      "Sorting process:\n",
      "12 8 3 14 30 18 17 28 \n",
      "3 8 12 14 30 18 17 28 \n",
      "3 8 12 14 30 18 17 28 \n",
      "3 8 12 14 18 17 28 30 \n",
      "3 8 12 14 17 18 28 30 \n",
      "\n",
      "Final sorted list:\n",
      "3 8 12 14 17 18 28 30 \n"
     ]
    }
   ],
   "source": [
    "public class QuickSort {\n",
    "    public static void main(String[] args) {\n",
    "        int[] list = {28, 12, 18, 8, 30, 3, 17, 14};\n",
    "        \n",
    "        System.out.println(\"Sorting process:\");\n",
    "        quickSort(list, 0, list.length - 1);\n",
    "        \n",
    "        System.out.println(\"\\nFinal sorted list:\");\n",
    "        printArray(list);\n",
    "    }\n",
    "\n",
    "    private static void quickSort(int[] list, int low, int high) {\n",
    "        if (low < high) {\n",
    "            int pivotIndex = partition(list, low, high);\n",
    "            printArray(list);\n",
    "            quickSort(list, low, pivotIndex - 1);\n",
    "            quickSort(list, pivotIndex + 1, high);\n",
    "        }\n",
    "    }\n",
    "    \n",
    "    private static int partition(int[] list, int low, int high) {\n",
    "        int pivot = list[high];\n",
    "        int i = low - 1;\n",
    "        \n",
    "        for (int j = low; j < high; j++) {\n",
    "            if (list[j] <= pivot) {\n",
    "                i++;\n",
    "                int temp = list[i];\n",
    "                list[i] = list[j];\n",
    "                list[j] = temp;\n",
    "            }\n",
    "        }\n",
    "        \n",
    "        int temp = list[i + 1];\n",
    "        list[i + 1] = list[high];\n",
    "        list[high] = temp;\n",
    "        \n",
    "        return i + 1;\n",
    "    }\n",
    "\n",
    "    private static void printArray(int[] array) {\n",
    "        for (int num : array) {\n",
    "            System.out.print(num + \" \");\n",
    "        }\n",
    "        System.out.println();\n",
    "    }\n",
    "}\n",
    "\n",
    "QuickSort.main(new String[]{});\n"
   ]
  },
  {
   "cell_type": "markdown",
   "metadata": {},
   "source": [
    "# **Merge Sort**\n",
    "\n",
    "Merge sort is a sorting algorithm that follows the divide and conquer paradigm. It works by dividing the unsorted list into n sublists, each containing one element (a list of one element is considered sorted). Then, it repeatedly merges sublists to produce new sorted sublists until there is only one sublist remaining. This will be the sorted list. Merge sort is a stable sort, which means that the implementation preserves the input order of equal elements in the sorted output. It is also a comparison sort, which means that it sorts by comparing pairs of elements."
   ]
  },
  {
   "cell_type": "code",
   "execution_count": 11,
   "metadata": {
    "vscode": {
     "languageId": "java"
    }
   },
   "outputs": [
    {
     "name": "stdout",
     "output_type": "stream",
     "text": [
      "Sorting process:\n",
      "12 28 18 8 30 3 17 14 \n",
      "12 28 8 18 30 3 17 14 \n",
      "8 12 18 28 30 3 17 14 \n",
      "8 12 18 28 3 30 17 14 \n",
      "8 12 18 28 3 30 14 17 \n",
      "8 12 18 28 3 14 17 30 \n",
      "3 8 12 14 17 18 28 30 \n",
      "\n",
      "Final sorted list:\n",
      "3 8 12 14 17 18 28 30 \n"
     ]
    }
   ],
   "source": [
    "public class MergeSort {\n",
    "    public static void main(String[] args) {\n",
    "        int[] list = {28, 12, 18, 8, 30, 3, 17, 14};\n",
    "        \n",
    "        System.out.println(\"Sorting process:\");\n",
    "        mergeSort(list, 0, list.length - 1);\n",
    "        \n",
    "        System.out.println(\"\\nFinal sorted list:\");\n",
    "        printArray(list);\n",
    "    }\n",
    "\n",
    "    private static void mergeSort(int[] list, int left, int right) {\n",
    "        if (left < right) {\n",
    "            int mid = left + (right - left) / 2;\n",
    "\n",
    "            // Recursively sort the first and second halves\n",
    "            mergeSort(list, left, mid);\n",
    "            mergeSort(list, mid + 1, right);\n",
    "\n",
    "            // Merge the sorted halves\n",
    "            merge(list, left, mid, right);\n",
    "            \n",
    "            // Print the current state of the array\n",
    "            printArray(list);\n",
    "        }\n",
    "    }\n",
    "\n",
    "    private static void merge(int[] list, int left, int mid, int right) {\n",
    "        int n1 = mid - left + 1;\n",
    "        int n2 = right - mid;\n",
    "\n",
    "        // Temporary arrays\n",
    "        int[] leftArray = new int[n1];\n",
    "        int[] rightArray = new int[n2];\n",
    "\n",
    "        // Copy data to temporary arrays\n",
    "        System.arraycopy(list, left, leftArray, 0, n1);\n",
    "        System.arraycopy(list, mid + 1, rightArray, 0, n2);\n",
    "\n",
    "        // Merge the temporary arrays back into the original array\n",
    "        int i = 0, j = 0, k = left;\n",
    "\n",
    "        while (i < n1 && j < n2) {\n",
    "            if (leftArray[i] <= rightArray[j]) {\n",
    "                list[k++] = leftArray[i++];\n",
    "            } else {\n",
    "                list[k++] = rightArray[j++];\n",
    "            }\n",
    "        }\n",
    "\n",
    "        // Copy remaining elements of leftArray, if any\n",
    "        while (i < n1) {\n",
    "            list[k++] = leftArray[i++];\n",
    "        }\n",
    "\n",
    "        // Copy remaining elements of rightArray, if any\n",
    "        while (j < n2) {\n",
    "            list[k++] = rightArray[j++];\n",
    "        }\n",
    "    }\n",
    "\n",
    "    private static void printArray(int[] array) {\n",
    "        for (int num : array) {\n",
    "            System.out.print(num + \" \");\n",
    "        }\n",
    "        System.out.println();\n",
    "    }\n",
    "}\n",
    "\n",
    "MergeSort.main(new String[]{});\n"
   ]
  }
 ],
 "metadata": {
  "kernelspec": {
   "display_name": "Java",
   "language": "java",
   "name": "java"
  },
  "language_info": {
   "codemirror_mode": "java",
   "file_extension": ".jshell",
   "mimetype": "text/x-java-source",
   "name": "Java",
   "pygments_lexer": "java",
   "version": "17.0.6+10-LTS"
  }
 },
 "nbformat": 4,
 "nbformat_minor": 2
}
